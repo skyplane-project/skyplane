{
 "cells": [
  {
   "cell_type": "code",
   "execution_count": 20,
   "metadata": {},
   "outputs": [
    {
     "name": "stdout",
     "output_type": "stream",
     "text": [
      "The autoreload extension is already loaded. To reload it, use:\n",
      "  %reload_ext autoreload\n"
     ]
    }
   ],
   "source": [
    "%load_ext autoreload\n",
    "%autoreload 2"
   ]
  },
  {
   "cell_type": "code",
   "execution_count": null,
   "metadata": {},
   "outputs": [],
   "source": [
    "from skyplane.compute.gcp.gcp_auth import GCPAuthentication\n",
    "\n",
    "# Initialize necessary things\n",
    "auth = GCPAuthentication()\n",
    "default_instance = auth.config.get_flag(\"gcp_instance_class\")\n",
    "default_region = auth.config.get_flag(\"gcp_default_region\")\n",
    "\n",
    "# Default instances vcpus count\n",
    "instance = auth.get_gcp_client().machineTypes().get(project=auth.project_id, zone=default_region, machineType=default_instance).execute()\n",
    "print(instance)\n",
    "# vcpus = instance.get(\"guestCpus\", None)\n",
    "# if vcpus is not None:\n",
    "#     print(f\"Instance of type {default_instance} has {vcpus} vcpus\")\n",
    "\n",
    "# # Retrieve information about the specified region\n",
    "# instances = auth.get_gcp_instances(gcp_region=default_region)\n",
    "# items = instances.get(\"items\", None)\n",
    "\n",
    "# # Get the number of vCPUs of the instance you created\n",
    "# if items is not None:\n",
    "#     for item in items:\n",
    "#         machine_type = item.get(\"machineType\", None)\n",
    "#         if machine_type is not None:\n",
    "#             machine_type = item[\"machineType\"].split(\"/\")[-1]\n",
    "#             instance = auth.get_gcp_client().machineTypes().get(project=auth.project_id, zone=default_region, machineType=machine_type).execute()\n",
    "#             vcpus = instance.get(\"guestCpus\", None)\n",
    "#             if vcpus is not None:\n",
    "#                 print(f\"Instance of type {machine_type} has {vcpus} vcpus\")"
   ]
  },
  {
   "cell_type": "code",
   "execution_count": null,
   "metadata": {},
   "outputs": [],
   "source": [
    "import json\n",
    "from skyplane.config_paths import gcp_instances_path\n",
    "\n",
    "# Hard coding the vcpu info since the api doesn\"t provide a clean way for this\n",
    "vcpus_info = {\n",
    "    \"n1-standard-1\": 1,\n",
    "    \"n1-standard-2\": 2,\n",
    "    \"n1-standard-4\": 4,\n",
    "    \"n1-standard-8\": 8,\n",
    "    \"n1-standard-16\": 16,\n",
    "    \"n1-standard-32\": 32,\n",
    "    \"n1-standard-64\": 64,\n",
    "    \"n1-standard-96\": 96,\n",
    "    \"n1-highcpu-2\": 2,\n",
    "    \"n1-highcpu-4\": 4,\n",
    "    \"n1-highcpu-8\": 8,\n",
    "    \"n1-highcpu-16\": 16,\n",
    "    \"n1-highcpu-32\": 32,\n",
    "    \"n1-highcpu-64\": 64,\n",
    "    \"n1-highcpu-96\": 96,\n",
    "    \"n1-highmem-2\": 2,\n",
    "    \"n1-highmem-4\": 4,\n",
    "    \"n1-highmem-8\": 8,\n",
    "    \"n1-highmem-16\": 16,\n",
    "    \"n1-highmem-32\": 32,\n",
    "    \"n1-highmem-64\": 64,\n",
    "    \"n1-highmem-96\": 96\n",
    "}\n",
    "with gcp_instances_path.open(\"w\") as f:\n",
    "    f.write(json.dumps(vcpus_info))"
   ]
  },
  {
   "cell_type": "code",
   "execution_count": null,
   "metadata": {},
   "outputs": [],
   "source": [
    "from aws.aws_auth import AWSAuthentication\n",
    "\n",
    "# Initialize necessary things\n",
    "auth = AWSAuthentication()\n",
    "default_instance = auth.config.get_flag(\"aws_instance_class\")\n",
    "default_region = auth.config.get_flag(\"aws_default_region\")\n",
    "\n",
    "# Default instances vcpus count\n",
    "ec2 = auth.get_boto3_client(\"ec2\", default_region)\n",
    "response = ec2.describe_instance_types(InstanceTypes=[default_instance])\n",
    "vcpu_count = response[\"InstanceTypes\"][0][\"VCpuInfo\"][\"DefaultVCpus\"]\n",
    "print(f\"The {default_instance} instance has {vcpu_count} vCPUs.\")"
   ]
  },
  {
   "cell_type": "code",
   "execution_count": null,
   "metadata": {},
   "outputs": [],
   "source": [
    "import json\n",
    "from skyplane.config_paths import aws_instances_path\n",
    "\n",
    "with aws_instances_path.open(\"r\") as f:\n",
    "    vcpus_info = json.load(f)\n",
    "\n",
    "    types = {}\n",
    "\n",
    "    for instance, vcpus in vcpus_info.items():\n",
    "        header = instance.split(\".\")[0][:2]\n",
    "        types[header] = types.get(header, [])\n",
    "        types[header].append((instance, vcpus))\n",
    "\n",
    "    print(json.dumps(types, sort_keys=True, indent=2))"
   ]
  },
  {
   "cell_type": "code",
   "execution_count": null,
   "metadata": {},
   "outputs": [],
   "source": [
    "import json\n",
    "from skyplane.compute.aws.aws_auth import AWSAuthentication\n",
    "from skyplane.config_paths import aws_instances_path\n",
    "import boto3\n",
    "\n",
    "# Initialize necessary things\n",
    "auth = AWSAuthentication()\n",
    "default_instance = auth.config.get_flag(\"aws_instance_class\")\n",
    "default_region = auth.config.get_flag(\"aws_default_region\")\n",
    "\n",
    "# Use the describe_instance_types() method to get information about instance types\n",
    "ec2 = boto3.client(\"ec2\", region_name=\"us-east-1\")\n",
    "response = ec2.describe_instance_types()\n",
    "\n",
    "# Extract the vCPU information from the response\n",
    "vcpus = {}\n",
    "for instance_type in response[\"InstanceTypes\"]:\n",
    "    instance_type_name = instance_type[\"InstanceType\"]\n",
    "    vcpus[instance_type_name] = instance_type[\"VCpuInfo\"][\"DefaultVCpus\"]\n",
    "\n",
    "print(len(vcpus.keys()))\n",
    "\n",
    "# Print the vCPU information\n",
    "for instance_type, vcpu_count in vcpus.items():\n",
    "    print(f\"{instance_type}: {vcpu_count} vCPUs\")\n",
    "\n",
    "with aws_instances_path.open(\"w\") as f:\n",
    "    f.write(json.dumps(vcpus, indent=2))"
   ]
  },
  {
   "cell_type": "code",
   "execution_count": null,
   "metadata": {},
   "outputs": [],
   "source": [
    "instance_type = default_instance\n",
    "with aws_instances_path.open(\"r\") as f:\n",
    "    vcpus_info = json.load(f)\n",
    "    print(vcpus_info[instance_type])"
   ]
  },
  {
   "cell_type": "code",
   "execution_count": null,
   "metadata": {},
   "outputs": [],
   "source": [
    "import boto3\n",
    "\n",
    "# Create a client object for the EC2 service\n",
    "ec2 = boto3.client(\"ec2\")\n",
    "\n",
    "# Use the describe_instances() method to get information about instances\n",
    "response = ec2.describe_instances()\n",
    "\n",
    "# Extract the instance IDs from the response\n",
    "instance_ids = []\n",
    "for reservation in response[\"Reservations\"]:\n",
    "    for instance in reservation[\"Instances\"]:\n",
    "        instance_ids.append(instance[\"InstanceId\"])\n",
    "\n",
    "# Print the instance IDs\n",
    "print(\"Instances in this account:\")\n",
    "for instance_id in instance_ids:\n",
    "    print(instance_id)\n"
   ]
  },
  {
   "cell_type": "code",
   "execution_count": null,
   "metadata": {},
   "outputs": [],
   "source": [
    "from google.cloud import compute_v1\n",
    "from skyplane.compute.gcp.gcp_auth import GCPAuthentication\n",
    "\n",
    "# Initialize necessary things\n",
    "auth = GCPAuthentication()\n",
    "default_instance = auth.config.get_flag(\"gcp_instance_class\")\n",
    "default_region = auth.config.get_flag(\"gcp_default_region\")\n",
    "auth.get_gcp_instances(gcp_region=default_region)[\"items\"][0]\n",
    "\n",
    "# Use the list() method to get information about instances in the specified region\n",
    "# instances = []\n",
    "# for zone_name in zone_names:\n",
    "#     instances_in_zone = client.list(project=\"skyplane-test\", zone=zone_name)\n",
    "#     instances.extend(instances_in_zone)\n",
    "\n",
    "# # Print the instance names\n",
    "# print(\"Instances in the specified region:\")\n",
    "# for instance in instances:\n",
    "#     if instance.name:\n",
    "#         print(instance.name)\n"
   ]
  },
  {
   "cell_type": "code",
   "execution_count": null,
   "metadata": {},
   "outputs": [],
   "source": [
    "import boto3\n",
    "\n",
    "client = boto3.client(\"ec2\", region_name=\"us-east-1\")\n",
    "\n",
    "response = client.describe_instance_types(\n",
    "    MaxResults=100\n",
    ")\n",
    "\n",
    "instance_types = response[\"InstanceTypes\"]\n",
    "while \"NextToken\" in response:\n",
    "    response = client.describe_instance_types(\n",
    "        MaxResults=100,\n",
    "        NextToken=response[\"NextToken\"]\n",
    "    )\n",
    "    instance_types.extend(response[\"InstanceTypes\"])\n",
    "\n",
    "vcpus = {}\n",
    "for instance_type in instance_types:\n",
    "    instance_type_name = instance_type[\"InstanceType\"]\n",
    "    vcpus[instance_type_name] = {\n",
    "        \"vcpus\": instance_type[\"VCpuInfo\"][\"DefaultVCpus\"],\n",
    "        \"usage_classes\": instance_type[\"SupportedUsageClasses\"]\n",
    "    }\n",
    "\n",
    "print(json.dumps(vcpus, indent=2))"
   ]
  },
  {
   "cell_type": "code",
   "execution_count": null,
   "metadata": {},
   "outputs": [],
   "source": [
    "import boto3\n",
    "import json\n",
    "\n",
    "client = boto3.client(\"ec2\", region_name=\"us-east-1\")\n",
    "\n",
    "response = client.describe_instance_types(\n",
    "    MaxResults=100\n",
    ")\n",
    "\n",
    "instance_types = response[\"InstanceTypes\"]\n",
    "while \"NextToken\" in response:\n",
    "    response = client.describe_instance_types(\n",
    "        MaxResults=100,\n",
    "        NextToken=response[\"NextToken\"]\n",
    "    )\n",
    "    instance_types.extend(response[\"InstanceTypes\"])\n",
    "\n",
    "families = {}\n",
    "for instance_type in instance_types:\n",
    "    instance_type_name = instance_type[\"InstanceType\"]\n",
    "    family = instance_type_name.split(\".\")[0]\n",
    "    if family not in families:\n",
    "        families[family] = {}\n",
    "    families[family][instance_type_name] = instance_type[\"VCpuInfo\"][\"DefaultVCpus\"]\n",
    "\n",
    "print(json.dumps(families, indent=2))\n"
   ]
  },
  {
   "cell_type": "code",
   "execution_count": null,
   "metadata": {},
   "outputs": [],
   "source": [
    "region_list = [\"australiacentral\",\n",
    "\"australiacentral2\",\n",
    "\"australiaeast\",\n",
    "\"australiasoutheast\",\n",
    "\"brazilsouth\",\n",
    "\"brazilsoutheast\",\n",
    "\"brazilus\",\n",
    "\"canadacentral\",\n",
    "\"canadaeast\",\n",
    "\"centralindia\",\n",
    "\"centralus\",\n",
    "\"eastasia\",\n",
    "\"eastus\",\n",
    "\"eastus2\",\n",
    "\"francecentral\",\n",
    "\"francesouth\",\n",
    "\"germanynorth\",\n",
    "\"germanywestcentral\",\n",
    "\"japaneast\",\n",
    "\"japanwest\",\n",
    "\"jioindiacentral\",\n",
    "\"jioindiawest\",\n",
    "\"koreacentral\",\n",
    "\"koreasouth\",\n",
    "\"northcentralus\",\n",
    "\"northeurope\",\n",
    "\"norwayeast\",\n",
    "\"norwaywest\",\n",
    "\"polandcentral\",\n",
    "\"qatarcentral\",\n",
    "\"southafricanorth\",\n",
    "\"southafricawest\",\n",
    "\"southcentralus\",\n",
    "\"southeastasia\",\n",
    "\"southindia\",\n",
    "\"swedencentral\",\n",
    "\"switzerlandnorth\",\n",
    "\"switzerlandwest\",\n",
    "\"uaecentral\",\n",
    "\"uaenorth\",\n",
    "\"uksouth\",\n",
    "\"ukwest\",\n",
    "\"westcentralus\",\n",
    "\"westeurope\",\n",
    "\"westindia\",\n",
    "\"westus\",\n",
    "\"westus2\",\n",
    "\"westus3\"]"
   ]
  },
  {
   "cell_type": "code",
   "execution_count": null,
   "metadata": {},
   "outputs": [],
   "source": [
    "# Azure initialization\n",
    "from skyplane.config_paths import aws_quota_path, gcp_quota_path, azure_quota_path\n",
    "import json\n",
    "\n",
    "result = []\n",
    "with open(azure_quota_path, \"r\") as f:\n",
    "    result = json.load(f)\n",
    "\n",
    "print(result)\n",
    "\n",
    "# all_region_vcpus_azure = {}\n",
    "# for region in region_list:\n",
    "#     azure_target = [item for item in result[region] if item[\"properties\"][\"name\"][\"value\"] == \"standardDv5Family\"]\n",
    "#     if azure_target:\n",
    "#         all_region_vcpus_azure[region] = azure_target[0][\"properties\"][\"limit\"][\"value\"]\n",
    "# all_region_vcpus_azure"
   ]
  },
  {
   "cell_type": "code",
   "execution_count": null,
   "metadata": {},
   "outputs": [],
   "source": [
    "# AWS get quota\n",
    "region = \"us-east-1\"\n",
    "spot = False\n",
    "with aws_quota_path.open(\"r\") as f:\n",
    "    quota_limits = json.load(f)\n",
    "    print(quota_limits)\n",
    "    for quota in quota_limits:\n",
    "        if quota[\"region_name\"] == region:\n",
    "            if spot:\n",
    "                print(quota[\"spot_standard_vcpus\"])\n",
    "            else:\n",
    "                print(quota[\"on_demand_standard_vcpus\"])"
   ]
  },
  {
   "cell_type": "code",
   "execution_count": null,
   "metadata": {},
   "outputs": [],
   "source": [
    "# GCP get quota \n",
    "region = \"us-east1-a\"\n",
    "spot = True\n",
    "with gcp_quota_path.open(\"r\") as f:\n",
    "    quota_limits = json.load(f)\n",
    "    print(quota_limits)\n",
    "    region_family = \"-\".join(region.split(\"-\")[:2])\n",
    "    if region_family in quota_limits:\n",
    "        print(quota_limits[region_family])"
   ]
  },
  {
   "cell_type": "code",
   "execution_count": null,
   "metadata": {},
   "outputs": [],
   "source": [
    "# Azure get quota\n",
    "from skyplane.config_paths import azure_standardDv5_quota_path, azure_config_path\n",
    "region = \"uaenorth\"\n",
    "spot = False\n",
    "with open(azure_standardDv5_quota_path, \"r\") as f:\n",
    "    quota_limits = json.load(f)\n",
    "    if region in quota_limits:\n",
    "        print(quota_limits[region])"
   ]
  },
  {
   "cell_type": "code",
   "execution_count": null,
   "metadata": {},
   "outputs": [],
   "source": [
    "# AWS fallback\n",
    "from skyplane.compute import AWSAuthentication\n",
    "\n",
    "quota_limit = 2\n",
    "instance_type = \"m5.8xlarge\"\n",
    "if AWSAuthentication._AWS_VCPUS[instance_type] <= quota_limit:\n",
    "    print(None)  # don\"t need to fall back\n",
    "\n",
    "max_vcpus, max_instance = 0, None\n",
    "for instance, vcpus in AWSAuthentication._AWS_VCPUS.items():\n",
    "    # Get the largest of the smaller VMs than the quota_limit\n",
    "    if vcpus <= quota_limit and vcpus > max_vcpus:\n",
    "        max_vcpus = vcpus\n",
    "        max_instance = instance\n",
    "print(max_instance, max_vcpus)  # None if no smaller VM exists"
   ]
  },
  {
   "cell_type": "code",
   "execution_count": null,
   "metadata": {},
   "outputs": [],
   "source": [
    "# GCP fallback\n",
    "\n",
    "quota_limit = 24\n",
    "instance_type = \"n2-standard-32\"\n",
    "# By default, using n2-standard series; hence, can just hard code the pattern\n",
    "vcpus = int(instance_type.split(\"-\")[-1])\n",
    "if vcpus <= quota_limit:\n",
    "    print(None)  # don\"t need to fall back\n",
    "\n",
    "# Find the greatest instance that is less than quota\n",
    "for val in (128, 96, 80, 64, 48, 32, 16, 8, 4, 2):\n",
    "    if val <= quota_limit:\n",
    "        print(f\"n2-standard-{val}\")"
   ]
  },
  {
   "cell_type": "code",
   "execution_count": null,
   "metadata": {},
   "outputs": [],
   "source": [
    "# Azure fallback\n",
    "import re\n",
    "\n",
    "\n",
    "quota_limit = 24\n",
    "instance_type = \"Standard_D32_v5\"\n",
    "# Since Azure instances follow a common pattern, we can just extract the vCPUs from the instance name\n",
    "vcpus = int(re.search(r\"\\d+\", instance_type).group())\n",
    "if vcpus <= quota_limit:\n",
    "    print(None)  # don\"t need to fall back\n",
    "\n",
    "# Find the greatest instance that is less than quota\n",
    "for val in (96, 64, 48, 32, 16, 8, 4, 2):\n",
    "    if val <= quota_limit:\n",
    "        print(f\"Standard_D{val}_v5\")"
   ]
  },
  {
   "cell_type": "code",
   "execution_count": null,
   "metadata": {},
   "outputs": [],
   "source": [
    "from skyplane.compute.gcp.gcp_auth import GCPAuthentication\n",
    "\n",
    "# Initialize necessary things\n",
    "auth = GCPAuthentication()\n",
    "default_instance = auth.config.get_flag(\"gcp_instance_class\")\n",
    "default_region = auth.config.get_flag(\"gcp_default_region\")\n",
    "\n",
    "service = auth.get_gcp_client(\"compute\", \"v1\")\n",
    "request = service.regions().list(project=auth.project_id)\n",
    "region_to_vcpus = {}\n",
    "while request is not None:\n",
    "    response = request.execute()\n",
    "    for region in response[\"items\"]:\n",
    "        if region[\"kind\"] != \"compute#region\":\n",
    "            continue\n",
    "        region_name = region[\"name\"]\n",
    "        for quota_item in region[\"quotas\"]:\n",
    "            if quota_item[\"metric\"] == \"CPUS\":\n",
    "                region_to_vcpus[region_name] = quota_item[\"limit\"]\n",
    "                break\n",
    "    request = service.regions().list_next(previous_request=request, previous_response=response)"
   ]
  },
  {
   "cell_type": "code",
   "execution_count": null,
   "metadata": {},
   "outputs": [],
   "source": [
    "region_to_vcpus"
   ]
  },
  {
   "cell_type": "code",
   "execution_count": null,
   "metadata": {},
   "outputs": [],
   "source": [
    "import boto3\n",
    "\n",
    "ec2_client = boto3.client(\"ec2\")\n",
    "account_attributes = ec2_client.describe_account_attributes(AttributeNames=[\"max-instances\"])\n",
    "\n",
    "for attribute in account_attributes[\"AccountAttributes\"]:\n",
    "    if attribute[\"AttributeName\"] == \"max-instances\":\n",
    "        for value in attribute[\"AttributeValues\"]:\n",
    "            if value[\"AttributeValue\"] == \"vCPUs\":\n",
    "                vcpu_limit = int(value[\"Max\"])\n",
    "                print(f\"vCPU limit: {vcpu_limit}\")\n"
   ]
  },
  {
   "cell_type": "code",
   "execution_count": null,
   "metadata": {},
   "outputs": [],
   "source": [
    "from skyplane import compute\n",
    "\n",
    "def test_fall_back_aws():\n",
    "\n",
    "    # Different instances\n",
    "    instances = (\n",
    "        \"Standard_D2_v5\",\n",
    "        \"Standard_D4_v5\",\n",
    "        \"Standard_D8_v5\",\n",
    "        \"Standard_D16_v5\",\n",
    "        \"Standard_D32_v5\",\n",
    "        \"Standard_D48_v5\",\n",
    "        \"Standard_D64_v5\",\n",
    "        \"Standard_D96_v5\",\n",
    "    )\n",
    "\n",
    "    # Default parameters\n",
    "    auth = compute.AzureAuthentication\n",
    "    quota_limit = 4\n",
    "\n",
    "    # Test fall back\n",
    "    for vm_type in instances:\n",
    "        smaller_vm = auth.fall_back_to_smaller_vm_if_neccessary(instance_type=vm_type, quota_limit=quota_limit)\n",
    "\n",
    "        if vm_type == \"Standard_D4_v5\" or vm_type == \"Standard_D2_v5\":\n",
    "            assert smaller_vm is None\n",
    "        else:\n",
    "            assert smaller_vm is not None\n",
    "            assert smaller_vm == \"Standard_D4_v5\""
   ]
  },
  {
   "cell_type": "code",
   "execution_count": null,
   "metadata": {},
   "outputs": [],
   "source": [
    "from skyplane import compute\n",
    "\n",
    "def test_fall_back_aws():\n",
    "\n",
    "    # Different instances\n",
    "    instances = (\n",
    "        \"n2-standard-128\",\n",
    "        \"n2-standard-96\",\n",
    "        \"n2-standard-80\",\n",
    "        \"n2-standard-64\",\n",
    "        \"n2-standard-48\",\n",
    "        \"n2-standard-32\",\n",
    "        \"n2-standard-16\",\n",
    "        \"n2-standard-8\",\n",
    "        \"n2-standard-4\",\n",
    "        \"n2-standard-2\"\n",
    "    )\n",
    "\n",
    "    # Default parameters\n",
    "    auth = compute.GCPAuthentication\n",
    "    quota_limit = 8\n",
    "\n",
    "    # Test fall back\n",
    "    for vm_type in instances:\n",
    "        smaller_vm = auth.fall_back_to_smaller_vm_if_neccessary(instance_type=vm_type, quota_limit=quota_limit)\n",
    "\n",
    "        if vm_type == \"n2-standard-8\" or vm_type == \"n2-standard-4\" or \"n2-standard-2\":\n",
    "            assert smaller_vm is None\n",
    "        else:\n",
    "            assert smaller_vm is not None\n",
    "            assert smaller_vm == \"n2-standard-8\"\n"
   ]
  },
  {
   "cell_type": "code",
   "execution_count": null,
   "metadata": {},
   "outputs": [],
   "source": [
    "from skyplane import compute\n",
    "\n",
    "def test_fall_back_aws():\n",
    "\n",
    "    # Different instances\n",
    "    instances = (\n",
    "        \"m5.8xlarge\",\n",
    "        \"m5.12xlarge\",\n",
    "        \"m5.24xlarge\",\n",
    "        \"m5.metal\",\n",
    "        \"m5.xlarge\",\n",
    "        \"m5.4xlarge\",\n",
    "        \"m5.large\",\n",
    "        \"m5.2xlarge\",\n",
    "        \"m5.16xlarge\",\n",
    "    )\n",
    "\n",
    "    # Default parameters\n",
    "    auth = compute.AWSAuthentication\n",
    "    quota_limit = 5\n",
    "\n",
    "    # Test fall back\n",
    "    for vm_type in instances:\n",
    "        smaller_vm = auth.fall_back_to_smaller_vm_if_neccessary(instance_type=vm_type, quota_limit=quota_limit)\n",
    "\n",
    "        if vm_type == \"m5.xlarge\" or vm_type == \"m5.large\":\n",
    "            assert smaller_vm is None\n",
    "        else:\n",
    "            assert smaller_vm is not None\n",
    "            assert smaller_vm == \"m5.xlarge\"\n"
   ]
  },
  {
   "cell_type": "code",
   "execution_count": null,
   "metadata": {},
   "outputs": [],
   "source": [
    "def calculate_vcpu_portions(num_vcpus, quota_limit, vcpu_options):\n",
    "    # Find the largest vCPU option\n",
    "    max_vcpus = max(vcpu_options)\n",
    "    \n",
    "    # If the desired vCPU count is within the quota limit, try to use a single vCPU option\n",
    "    if num_vcpus <= quota_limit:\n",
    "        # If the desired vCPU count matches one of the available options, use that option\n",
    "        # if num_vcpus in vcpu_options:\n",
    "        return (1, num_vcpus) # [num_vcpus]\n",
    "        # # Otherwise, try to use the largest available vCPU option that is smaller than the desired count\n",
    "        # for vcpu_count in sorted(vcpu_options, reverse=True):\n",
    "        #     if vcpu_count <= num_vcpus:\n",
    "        #         return (num_vcpus // vcpu_count, vcpu_count) # [vcpu_count] * (num_vcpus // vcpu_count)\n",
    "    \n",
    "    # # If the largest available vCPU option is within the quota limit, use it to launch as many vCPUs as possible\n",
    "    # elif max_vcpus <= quota_limit:\n",
    "    #     return (num_vcpus // max_vcpus, max_vcpus) # [max_vcpus] * (num_vcpus // max_vcpus)\n",
    "    \n",
    "    # Otherwise, try to split the desired vCPU count into smaller portions that are within the quota limit and use the largest option\n",
    "    else:\n",
    "        for vcpu_count in sorted(vcpu_options, reverse=True):\n",
    "            if vcpu_count <= quota_limit: # and vcpu_count <= num_vcpus:\n",
    "                portions = num_vcpus // vcpu_count\n",
    "                remaining_vcpus = num_vcpus - (vcpu_count * portions)\n",
    "                # If the remaining vCPUs are 0, use the current option to launch all portions\n",
    "                if remaining_vcpus == 0:\n",
    "                    return (portions, vcpu_count) # [vcpu_count] * portions\n",
    "    # Return an empty list if no valid vCPU portions were found\n",
    "    return ()\n"
   ]
  },
  {
   "cell_type": "code",
   "execution_count": null,
   "metadata": {},
   "outputs": [],
   "source": [
    "# Example usage\n",
    "hey = (128, 96, 80, 64, 48, 32, 16, 8, 4, 2)\n",
    "\n",
    "for num_vcpus in hey:\n",
    "    for quota_limit in range(2, num_vcpus):\n",
    "        num, vm_size = calculate_vcpu_portions(num_vcpus, quota_limit, hey)\n",
    "        if num * vm_size != num_vcpus:\n",
    "            print(f\"{num_vcpus} with limit {quota_limit}: {num, vm_size}\")\n",
    "\n",
    "# num_vcpus = 48\n",
    "# quota_limit = 35\n",
    "# vcpu_portions = calculate_vcpu_portions(num_vcpus, quota_limit, (96, 64, 48, 32, 16, 8, 4, 2))\n",
    "# print(vcpu_portions)\n",
    "# Output: [16, 16]"
   ]
  },
  {
   "cell_type": "code",
   "execution_count": null,
   "metadata": {},
   "outputs": [],
   "source": [
    "# Deprecated code\n",
    "\"\"\"\n",
    "- planner.py\n",
    "if vcpus_used <= quota_limit:\n",
    "    return None  # No need to fall back\n",
    "\n",
    "for val in all_vcpus:\n",
    "    if val <= quota_limit:\n",
    "        return vm_family.format(val if cloud_provider != \"aws\" else f\"{val // 4}x\" if val // 4 else \"2\")\n",
    "\n",
    "- dataplane.py:     \n",
    "# create VMs from the topology\n",
    "auths = {\n",
    "    \"aws\": compute.AWSAuthentication,\n",
    "    \"azure\": compute.AzureAuthentication,\n",
    "    \"gcp\": compute.GCPAuthentication,\n",
    "    \"ibmcloud\": compute.IBMCloudAuthentication,\n",
    "}\n",
    "\n",
    "spot = getattr(self.transfer_config, f\"{cloud_provider}_use_spot_instances\")\n",
    "vm_type = getattr(self.transfer_config, f\"{cloud_provider}_instance_class\")\n",
    "\n",
    "# Fall back to smaller vm if necessary\n",
    "auth = auths[cloud_provider]\n",
    "quota_limit = auth.get_quota_limits_for(region, spot)\n",
    "if quota_limit is not None:\n",
    "    smaller_vm = auth.fall_back_to_smaller_vm_if_neccessary(instance_type=vm_type, quota_limit=quota_limit)\n",
    "    if smaller_vm is not None:\n",
    "        vm_type = smaller_vm\n",
    "        logger.warning(f\"Falling back to {smaller_vm} at node {region} due to the vCPU quota limit {quota_limit}\")\n",
    "\n",
    "# TODO: Add the logic for partitioning the task into multiple vms if we fell back (in fall_back functions)\n",
    "# Ex: if the config vm uses 32 vCPUs but the quota limit is 8 vCPUS, call add_task 4 times with the smaller vm\n",
    "\n",
    "- planner.py\n",
    "    # @staticmethod\n",
    "    # def _get_vcpus_options(cloud_provider: str) -> Tuple[int]:\n",
    "    #     return (\n",
    "    #         Planner._AWS_VCPUS,\n",
    "    #         \"m5.{}large\" if cloud_provider == \"aws\" else Planner._AZURE_VCPUS if cloud_provider == \"azure\" else Planner._GCP_VCPUS,\n",
    "    #     )\n",
    "\n",
    "    # _AWS_VCPUS: Tuple[int] = (96, 64, 48, 32, 16, 8, 4, 2)\n",
    "    # _AZURE_VCPUS: Tuple[int] = (96, 64, 48, 32, 16, 8, 4, 2)\n",
    "    # _GCP_VCPUS: Tuple[int] = (128, 96, 80, 64, 48, 32, 16, 8, 4, 2)\n",
    "\n",
    "    \n",
    "        # # Get the n_portions, n_vcpus pair for source and destination\n",
    "        # src_n_portion, dst_n_vcpus = Planner._split_vcpus(num_vcpus=target_vcpus, quota_limit=quota_limit, vcpu_options=Planner._get_vcpus_options(src_provider))\n",
    "        # dst_n_portion, dst_n_vcpus = Planner._split_vcpus(num_vcpus=target_vcpus, quota_limit=quota_limit, vcpu_options=Planner._get_vcpus_options(src_provider))\n",
    "        # # Planner._split_vcpus(num_vcpus=target_vcpus, quota_limit=quota_limit\n",
    "\n",
    "        # if quota_limit is not None:\n",
    "        #     vm_portions = Planner._fall_back_to_smaller_vm_if_neccessary(\n",
    "        #         cloud_provider=cloud_provider,\n",
    "        #         instance_type=vm_type,\n",
    "        #         quota_limit=quota_limit,\n",
    "        #     )\n",
    "        #     if vm_portions is not None:\n",
    "        #         n_portions, vm_type = vm_portions\n",
    "        #         if n_portions > 1:\n",
    "        #             logger.warning(f\"Falling back to {vm_type} at {region} due to the vCPU quota limit {quota_limit}\")\n",
    "        # return n_portions, vm_type\n",
    "\n",
    "    # def _fall_back_to_smaller_vm_if_neccessary(\n",
    "    #     self, cloud_provider: str, instance_type: str, quota_limit: int, is_destination: bool = False\n",
    "    # ) -> Optional[str]:\n",
    "    #     n_vcpus, all_vcpus, vm_family = (\n",
    "    #         (re.search(r\"\\d+x\", instance_type), Planner._AWS_VCPUS, \"m5.{}large\")\n",
    "    #         if cloud_provider == \"aws\"\n",
    "    #         else (re.search(r\"\\d+\", instance_type), Planner._AZURE_VCPUS, \"Standard_D{}_v5\")\n",
    "    #         if cloud_provider == \"azure\"\n",
    "    #         else (int(instance_type.split(\"-\")[-1]), Planner._GCP_VCPUS, \"n2-standard-{}\")\n",
    "    #     )\n",
    "\n",
    "    #     vm_portions = Planner._split_vcpus(n_vcpus if cloud_provider == \"gcp\" else int(n_vcpus.group()), quota_limit, all_vcpus)\n",
    "    #     if vm_portions is ():\n",
    "    #         return None\n",
    "\n",
    "    #     num_portions, vm_size = vm_portions\n",
    "    #     return (num_portions, vm_family.format(vm_size if cloud_provider != \"aws\" else f\"{vm_size // 4}x\" if vm_size // 4 else \"2\"))\n",
    "\"\"\"\n"
   ]
  },
  {
   "cell_type": "code",
   "execution_count": 24,
   "metadata": {},
   "outputs": [
    {
     "name": "stdout",
     "output_type": "stream",
     "text": [
      "\n",
      "------('aws:us-east-1', 'aws:us-east-1')------\n"
     ]
    },
    {
     "data": {
      "text/html": [
       "<pre style=\"white-space:pre;overflow-x:auto;line-height:normal;font-family:Menlo,'DejaVu Sans Mono',consolas,'Courier New',monospace\">\n",
       "</pre>\n"
      ],
      "text/plain": [
       "\n"
      ]
     },
     "metadata": {},
     "output_type": "display_data"
    },
    {
     "name": "stdout",
     "output_type": "stream",
     "text": [
      "[(32, 5)]\n",
      "32 5\n",
      "8 4\n",
      "m5.xlarge\n",
      "\n",
      "------('aws:us-east-1', 'azure:uaenorth')------\n"
     ]
    },
    {
     "data": {
      "text/html": [
       "<pre style=\"white-space:pre;overflow-x:auto;line-height:normal;font-family:Menlo,'DejaVu Sans Mono',consolas,'Courier New',monospace\">\n",
       "</pre>\n"
      ],
      "text/plain": [
       "\n"
      ]
     },
     "metadata": {},
     "output_type": "display_data"
    },
    {
     "name": "stdout",
     "output_type": "stream",
     "text": [
      "[(2, 4)]\n",
      "2 4\n",
      "1 2\n",
      "m5.large\n",
      "\n",
      "------('aws:us-east-1', 'gcp:us-east1')------\n"
     ]
    },
    {
     "data": {
      "text/html": [
       "<pre style=\"white-space:pre;overflow-x:auto;line-height:normal;font-family:Menlo,'DejaVu Sans Mono',consolas,'Courier New',monospace\">\n",
       "</pre>\n"
      ],
      "text/plain": [
       "\n"
      ]
     },
     "metadata": {},
     "output_type": "display_data"
    },
    {
     "name": "stdout",
     "output_type": "stream",
     "text": [
      "[(16, 5)]\n",
      "16 5\n",
      "4 4\n",
      "m5.xlarge\n",
      "\n",
      "------('azure:uaenorth', 'aws:us-east-1')------\n"
     ]
    },
    {
     "data": {
      "text/html": [
       "<pre style=\"white-space:pre;overflow-x:auto;line-height:normal;font-family:Menlo,'DejaVu Sans Mono',consolas,'Courier New',monospace\">\n",
       "</pre>\n"
      ],
      "text/plain": [
       "\n"
      ]
     },
     "metadata": {},
     "output_type": "display_data"
    },
    {
     "name": "stdout",
     "output_type": "stream",
     "text": [
      "[(2, 4)]\n",
      "2 4\n",
      "1 2\n",
      "Standard_D2_v5\n",
      "\n",
      "------('azure:uaenorth', 'azure:uaenorth')------\n"
     ]
    },
    {
     "data": {
      "text/html": [
       "<pre style=\"white-space:pre;overflow-x:auto;line-height:normal;font-family:Menlo,'DejaVu Sans Mono',consolas,'Courier New',monospace\">\n",
       "</pre>\n"
      ],
      "text/plain": [
       "\n"
      ]
     },
     "metadata": {},
     "output_type": "display_data"
    },
    {
     "name": "stdout",
     "output_type": "stream",
     "text": [
      "[(2, 4)]\n",
      "2 4\n",
      "1 2\n",
      "Standard_D2_v5\n",
      "\n",
      "------('azure:uaenorth', 'gcp:us-east1')------\n"
     ]
    },
    {
     "data": {
      "text/html": [
       "<pre style=\"white-space:pre;overflow-x:auto;line-height:normal;font-family:Menlo,'DejaVu Sans Mono',consolas,'Courier New',monospace\">\n",
       "</pre>\n"
      ],
      "text/plain": [
       "\n"
      ]
     },
     "metadata": {},
     "output_type": "display_data"
    },
    {
     "name": "stdout",
     "output_type": "stream",
     "text": [
      "[(2, 4)]\n",
      "2 4\n",
      "1 2\n",
      "Standard_D2_v5\n",
      "\n",
      "------('gcp:us-east1', 'aws:us-east-1')------\n"
     ]
    },
    {
     "data": {
      "text/html": [
       "<pre style=\"white-space:pre;overflow-x:auto;line-height:normal;font-family:Menlo,'DejaVu Sans Mono',consolas,'Courier New',monospace\">\n",
       "</pre>\n"
      ],
      "text/plain": [
       "\n"
      ]
     },
     "metadata": {},
     "output_type": "display_data"
    },
    {
     "name": "stdout",
     "output_type": "stream",
     "text": [
      "[(16, 5)]\n",
      "16 5\n",
      "4 4\n",
      "n2-standard-4\n",
      "\n",
      "------('gcp:us-east1', 'azure:uaenorth')------\n"
     ]
    },
    {
     "data": {
      "text/html": [
       "<pre style=\"white-space:pre;overflow-x:auto;line-height:normal;font-family:Menlo,'DejaVu Sans Mono',consolas,'Courier New',monospace\">\n",
       "</pre>\n"
      ],
      "text/plain": [
       "\n"
      ]
     },
     "metadata": {},
     "output_type": "display_data"
    },
    {
     "name": "stdout",
     "output_type": "stream",
     "text": [
      "[(2, 4)]\n",
      "2 4\n",
      "1 2\n",
      "n2-standard-2\n",
      "\n",
      "------('gcp:us-east1', 'gcp:us-east1')------\n"
     ]
    },
    {
     "data": {
      "text/html": [
       "<pre style=\"white-space:pre;overflow-x:auto;line-height:normal;font-family:Menlo,'DejaVu Sans Mono',consolas,'Courier New',monospace\">\n",
       "</pre>\n"
      ],
      "text/plain": [
       "\n"
      ]
     },
     "metadata": {},
     "output_type": "display_data"
    },
    {
     "name": "stdout",
     "output_type": "stream",
     "text": [
      "[(16, 8)]\n",
      "16 8\n",
      "2 8\n",
      "n2-standard-8\n"
     ]
    }
   ],
   "source": [
    "from skyplane import compute\n",
    "from skyplane.api.config import TransferConfig\n",
    "from skyplane.planner.planner import MulticastDirectPlanner, Planner\n",
    "from skyplane.utils.fn import do_parallel\n",
    "\n",
    "quota_limits = {\n",
    "    \"aws\": [\n",
    "        {\"on_demand_standard_vcpus\": 5, \"spot_standard_vcpus\": 5, \"region_name\": \"us-east-1\"},\n",
    "    ],\n",
    "    \"gcp\": {\n",
    "        \"us-east1\": 8,\n",
    "    },\n",
    "    \"azure\": {\n",
    "        \"uaenorth\": 4,\n",
    "    },\n",
    "}\n",
    "\n",
    "transfer_config = TransferConfig()\n",
    "planner = MulticastDirectPlanner(n_instances=8, n_connections=100, transfer_config=transfer_config)\n",
    "planner.quota_limits = quota_limits\n",
    "\n",
    "region_tags = [\"aws:us-east-1\", \"azure:uaenorth\", \"gcp:us-east1\"]\n",
    "tests = {\n",
    "    (\"aws:us-east-1\", \"aws:us-east-1\"): 0,\n",
    "    (\"aws:us-east-1\", \"azure:uaenorth\"): 0,\n",
    "    (\"aws:us-east-1\", \"gcp:us-east1\"): 0,\n",
    "    (\"azure:uaenorth\", \"aws:us-east-1\"): 0,\n",
    "    (\"azure:uaenorth\", \"azure:uaenorth\"): 0,\n",
    "    (\"azure:uaenorth\", \"gcp:us-east1\"): 0,\n",
    "    (\"gcp:us-east1\", \"aws:us-east-1\"): 0,\n",
    "    (\"gcp:us-east1\", \"azure:uaenorth\"): 0,\n",
    "    (\"gcp:us-east1\", \"gcp:us-east1\"): 0,\n",
    "}\n",
    "\n",
    "results = {}\n",
    "for i, src_region_tag in enumerate(region_tags):\n",
    "    dst_region_tags = region_tags[:i] + region_tags[i+1:]\n",
    "    vm_info = do_parallel(planner._calculate_vm_types, [src_region_tag] + dst_region_tags)  # type: ignore\n",
    "    vm_types = {v[0]: Planner._vcpus_to_vm(cloud_provider=v[0].split(\":\")[0], vcpus=v[1][0]) for v in vm_info}  # type: ignore\n",
    "    n_instances = min(v[1][1] for v in vm_info)  # type: ignore\n",
    "\n",
    "    print(vm_types, n_instances)"
   ]
  },
  {
   "cell_type": "code",
   "execution_count": 25,
   "metadata": {},
   "outputs": [
    {
     "data": {
      "text/plain": [
       "{('aws:us-east-1', 'aws:us-east-1'): (8, 4, 'm5.xlarge'),\n",
       " ('aws:us-east-1', 'azure:uaenorth'): (1, 2, 'm5.large'),\n",
       " ('aws:us-east-1', 'gcp:us-east1'): (4, 4, 'm5.xlarge'),\n",
       " ('azure:uaenorth', 'aws:us-east-1'): (1, 2, 'Standard_D2_v5'),\n",
       " ('azure:uaenorth', 'azure:uaenorth'): (1, 2, 'Standard_D2_v5'),\n",
       " ('azure:uaenorth', 'gcp:us-east1'): (1, 2, 'Standard_D2_v5'),\n",
       " ('gcp:us-east1', 'aws:us-east-1'): (4, 4, 'n2-standard-4'),\n",
       " ('gcp:us-east1', 'azure:uaenorth'): (1, 2, 'n2-standard-2'),\n",
       " ('gcp:us-east1', 'gcp:us-east1'): (2, 8, 'n2-standard-8')}"
      ]
     },
     "execution_count": 25,
     "metadata": {},
     "output_type": "execute_result"
    }
   ],
   "source": [
    "results"
   ]
  },
  {
   "cell_type": "code",
   "execution_count": 18,
   "metadata": {},
   "outputs": [],
   "source": [
    "%load_ext autoreload\n",
    "%autoreload 2"
   ]
  },
  {
   "cell_type": "code",
   "execution_count": 27,
   "metadata": {},
   "outputs": [
    {
     "data": {
      "text/plain": [
       "'/Users/erenerdogan/skyplane/skyplane'"
      ]
     },
     "execution_count": 27,
     "metadata": {},
     "output_type": "execute_result"
    }
   ],
   "source": [
    "%pwd"
   ]
  },
  {
   "cell_type": "code",
   "execution_count": 29,
   "metadata": {},
   "outputs": [
    {
     "name": "stdout",
     "output_type": "stream",
     "text": [
      "CSV file './data/vcpu_info.csv' created successfully.\n"
     ]
    }
   ],
   "source": [
    "import csv\n",
    "\n",
    "data = [\n",
    "    # AWS\n",
    "    [\"m5.8xlarge\", \"aws\", 32],\n",
    "    [\"m5.12xlarge\", \"aws\", 48],\n",
    "    [\"m5.24xlarge\", \"aws\", 96],\n",
    "    [\"m5.xlarge\", \"aws\", 4],\n",
    "    [\"m5.4xlarge\", \"aws\", 16],\n",
    "    [\"m5.large\", \"aws\", 2],\n",
    "    [\"m5.2xlarge\", \"aws\", 8],\n",
    "    [\"m5.16xlarge\", \"aws\", 64],\n",
    "    \n",
    "    # GCP\n",
    "    [\"n2-standard-128\", \"gcp\", 128],\n",
    "    [\"n2-standard-96\", \"gcp\", 96],\n",
    "    [\"n2-standard-80\", \"gcp\", 80],\n",
    "    [\"n2-standard-64\", \"gcp\", 64],\n",
    "    [\"n2-standard-48\", \"gcp\", 48],\n",
    "    [\"n2-standard-32\", \"gcp\", 32],\n",
    "    [\"n2-standard-16\", \"gcp\", 16],\n",
    "    [\"n2-standard-8\", \"gcp\", 8],\n",
    "    [\"n2-standard-4\", \"gcp\", 4],\n",
    "    [\"n2-standard-2\", \"gcp\", 2],\n",
    "\n",
    "    # Azure\n",
    "    [\"Standard_D96_v5\", \"azure\", 96],\n",
    "    [\"Standard_D80_v5\", \"azure\", 80],\n",
    "    [\"Standard_D64_v5\", \"azure\", 64],\n",
    "    [\"Standard_D48_v5\", \"azure\", 48],\n",
    "    [\"Standard_D32_v5\", \"azure\", 32],\n",
    "    [\"Standard_D16_v5\", \"azure\", 16],\n",
    "    [\"Standard_D8_v5\", \"azure\", 8],\n",
    "    [\"Standard_D4_v5\", \"azure\", 4],\n",
    "    [\"Standard_D2_v5\", \"azure\", 2]\n",
    "]\n",
    "\n",
    "filename = \"./data/vcpu_info.csv\"\n",
    "\n",
    "with open(filename, 'w', newline='') as file:\n",
    "    writer = csv.writer(file)\n",
    "    writer.writerow(['instance_name', 'cloud_provider', 'vcpu_cost'])  # Writing the header row\n",
    "    writer.writerows(data)  # Writing the data rows\n",
    "\n",
    "print(f\"CSV file '{filename}' created successfully.\")"
   ]
  },
  {
   "cell_type": "code",
   "execution_count": 36,
   "metadata": {},
   "outputs": [
    {
     "name": "stdout",
     "output_type": "stream",
     "text": [
      "<contextlib._GeneratorContextManager object at 0x7f8dd01efbb0>\n",
      "('m5.8xlarge', 'aws', 32)\n",
      "('m5.12xlarge', 'aws', 48)\n",
      "('m5.24xlarge', 'aws', 96)\n",
      "('m5.xlarge', 'aws', 4)\n",
      "('m5.4xlarge', 'aws', 16)\n",
      "('m5.large', 'aws', 2)\n",
      "('m5.2xlarge', 'aws', 8)\n",
      "('m5.16xlarge', 'aws', 64)\n",
      "('n2-standard-128', 'gcp', 128)\n",
      "('n2-standard-96', 'gcp', 96)\n",
      "('n2-standard-80', 'gcp', 80)\n",
      "('n2-standard-64', 'gcp', 64)\n",
      "('n2-standard-48', 'gcp', 48)\n",
      "('n2-standard-32', 'gcp', 32)\n",
      "('n2-standard-16', 'gcp', 16)\n",
      "('n2-standard-8', 'gcp', 8)\n",
      "('n2-standard-4', 'gcp', 4)\n",
      "('n2-standard-2', 'gcp', 2)\n",
      "('Standard_D96_v5', 'azure', 96)\n",
      "('Standard_D80_v5', 'azure', 80)\n",
      "('Standard_D64_v5', 'azure', 64)\n",
      "('Standard_D48_v5', 'azure', 48)\n",
      "('Standard_D32_v5', 'azure', 32)\n",
      "('Standard_D16_v5', 'azure', 16)\n",
      "('Standard_D8_v5', 'azure', 8)\n",
      "('Standard_D4_v5', 'azure', 4)\n",
      "('Standard_D2_v5', 'azure', 2)\n"
     ]
    }
   ],
   "source": [
    "import csv\n",
    "from importlib.resources import path\n",
    "\n",
    "file_path = path(\"skyplane.data\", \"vcpu_info.csv\")\n",
    "data_list = ()\n",
    "\n",
    "print(file_path)\n",
    "\n",
    "with path(\"skyplane.data\", \"vcpu_info.csv\") as file_path:\n",
    "    with open(file_path, \"r\") as csvfile:\n",
    "        reader = csv.reader(csvfile)\n",
    "        next(reader)  # Skip the header row\n",
    "\n",
    "        for row in reader:\n",
    "            instance_name, cloud_provider, vcpu_cost = row\n",
    "            data_list.append((instance_name, cloud_provider, int(vcpu_cost)))"
   ]
  },
  {
   "cell_type": "code",
   "execution_count": null,
   "metadata": {},
   "outputs": [],
   "source": []
  }
 ],
 "metadata": {
  "kernelspec": {
   "display_name": "skyplane",
   "language": "python",
   "name": "python3"
  },
  "language_info": {
   "codemirror_mode": {
    "name": "ipython",
    "version": 3
   },
   "file_extension": ".py",
   "mimetype": "text/x-python",
   "name": "python",
   "nbconvert_exporter": "python",
   "pygments_lexer": "ipython3",
   "version": "3.9.16"
  },
  "orig_nbformat": 4
 },
 "nbformat": 4,
 "nbformat_minor": 2
}
