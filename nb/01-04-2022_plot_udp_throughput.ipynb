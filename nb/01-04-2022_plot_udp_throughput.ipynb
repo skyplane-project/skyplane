{
 "cells": [
  {
   "cell_type": "code",
   "execution_count": null,
   "metadata": {},
   "outputs": [],
   "source": [
    "import numpy as np\n",
    "import pandas as pd\n",
    "import matplotlib.pyplot as plt\n",
    "from skylark.utils import logger\n",
    "\n",
    "import pickle\n",
    "import json\n",
    "import re\n",
    "from pathlib import Path\n",
    "\n",
    "data_dir = Path(globals()[\"_dh\"][0]).parent / \"data\"\n",
    "throughput_dir = data_dir / \"throughput\" / \"iperf3\"\n",
    "figure_dir = data_dir / \"figures\"\n",
    "figure_dir.mkdir(exist_ok=True)\n",
    "\n",
    "plt.style.use(\"seaborn-bright\")\n",
    "plt.set_cmap(\"plasma\")\n",
    "\n",
    "# list data files, sorted by date\n",
    "data_files = sorted(throughput_dir.glob(\"*.json\"), key=lambda x: x.name)\n",
    "file = data_files[0]"
   ]
  },
  {
   "cell_type": "code",
   "execution_count": null,
   "metadata": {},
   "outputs": [],
   "source": [
    "with Path(\"/home/ubuntu/skylark/data/throughput/iperf3/throughput_2022-01-04_22-12-49.json\").open(\"rb\") as f:\n",
    "    data = json.load(f)\n",
    "df = pd.DataFrame(data).set_index([\"src\", \"dst\"])\n",
    "df[\"throughput_gbps\"] = df[\"throughput_mbps\"] / 1024\n",
    "df"
   ]
  },
  {
   "cell_type": "code",
   "execution_count": null,
   "metadata": {},
   "outputs": [],
   "source": [
    "def plot_grid(df, title=\"Throughput (Gbps)\", key=\"throughput_gbps\"):\n",
    "    regions = sorted(set(df.index.get_level_values(\"src\")))\n",
    "    data_grid = np.zeros((len(regions), len(regions)))\n",
    "\n",
    "    for i, src in enumerate(regions):\n",
    "        for j, dst in enumerate(regions):\n",
    "            try:\n",
    "                data_grid[i, j] = df.loc[src, dst][key]\n",
    "            except KeyError:\n",
    "                data_grid[i, j] = np.nan\n",
    "\n",
    "    fig, ax = plt.subplots(1, 1, figsize=(9, 9))\n",
    "    ax.imshow(data_grid)\n",
    "    ax.set_title(title)\n",
    "    ax.set_xticks(np.arange(len(regions)))\n",
    "    ax.set_yticks(np.arange(len(regions)))\n",
    "    ax.set_xticklabels(regions)\n",
    "    ax.set_yticklabels(regions)\n",
    "\n",
    "    for tick in ax.get_xticklabels():\n",
    "        tick.set_rotation(90)\n",
    "\n",
    "    # compute mean point of non nan values\n",
    "    mean_point = np.nanmean(data_grid)\n",
    "    for i, row in enumerate(data_grid):\n",
    "        for j, col in enumerate(row):\n",
    "            if not np.isnan(col):\n",
    "                ax.text(j, i, round(col, 1), ha=\"center\", va=\"center\", color=\"white\" if col < mean_point else \"black\")\n",
    "\n",
    "    fig.patch.set_facecolor(\"white\")\n",
    "    fig.subplots_adjust(hspace=0.6)\n",
    "    ax.figure.colorbar(ax.images[0], ax=ax)\n",
    "    return fig, ax\n",
    "\n",
    "\n",
    "df_plot = df.copy()\n",
    "fig, _ = plot_grid(df_plot, title=\"Throughput (Gbps)\", key=\"throughput_gbps\")\n",
    "fig.savefig(figure_dir / \"udp_throughput_grid.pdf\", bbox_inches=\"tight\")\n",
    "fig, _ = plot_grid(df_plot, title=\"Packet Loss (%)\", key=\"loss_percent\")\n",
    "fig.savefig(figure_dir / \"udp_packet_loss_grid.pdf\", bbox_inches=\"tight\")"
   ]
  },
  {
   "cell_type": "code",
   "execution_count": null,
   "metadata": {},
   "outputs": [],
   "source": []
  }
 ],
 "metadata": {
  "interpreter": {
   "hash": "7a2c4b191d1ae843dde5cb5f4d1f62fa892f6b79b0f9392a84691e890e33c5a4"
  },
  "kernelspec": {
   "display_name": "Python 3.8.12 64-bit ('base': conda)",
   "language": "python",
   "name": "python3"
  },
  "language_info": {
   "codemirror_mode": {
    "name": "ipython",
    "version": 3
   },
   "file_extension": ".py",
   "mimetype": "text/x-python",
   "name": "python",
   "nbconvert_exporter": "python",
   "pygments_lexer": "ipython3",
   "version": "3.8.12"
  }
 },
 "nbformat": 4,
 "nbformat_minor": 2
}
