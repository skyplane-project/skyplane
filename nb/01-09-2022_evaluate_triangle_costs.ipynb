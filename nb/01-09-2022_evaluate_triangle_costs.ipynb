{
 "cells": [
  {
   "cell_type": "code",
   "execution_count": null,
   "metadata": {},
   "outputs": [],
   "source": [
    "import pandas as pd\n",
    "import networkx as nx"
   ]
  },
  {
   "cell_type": "code",
   "execution_count": null,
   "metadata": {},
   "outputs": [],
   "source": [
    "costs = pd.read_csv(\"../profiles/aws_transfer_costs.csv\")"
   ]
  },
  {
   "cell_type": "code",
   "execution_count": null,
   "metadata": {},
   "outputs": [],
   "source": [
    "def make_nx_graph(cost_data):\n",
    "    G = nx.DiGraph()\n",
    "    for _, row in cost_data.iterrows():\n",
    "        G.add_edge(row[\"src\"], row[\"dst\"], weight=row[\"cost\"])\n",
    "    return G\n",
    "\n",
    "\n",
    "g = make_nx_graph(costs)\n",
    "\n",
    "# show graph\n",
    "nx.draw(g, with_labels=True)"
   ]
  },
  {
   "cell_type": "code",
   "execution_count": null,
   "metadata": {},
   "outputs": [],
   "source": [
    "for src in set(costs.src):\n",
    "    for dst in set(costs.dst):\n",
    "        if src == dst:\n",
    "            continue\n",
    "        # run dijkstra from src to dst\n",
    "        path = nx.dijkstra_path(g, src, dst)\n",
    "        if path != [src, dst]:\n",
    "            print(\n",
    "                f\"{src} -> {dst}: {path} w/ cost {sum(g[u][v]['weight'] for u, v in zip(path[:-1], path[1:]))} versus {costs[(costs.src == src) & (costs.dst == dst)].cost.values[0]}\"\n",
    "            )"
   ]
  },
  {
   "cell_type": "code",
   "execution_count": null,
   "metadata": {},
   "outputs": [],
   "source": [
    "# print(costs[costs.src == \"ca-central-1\" & costs.dst == \"internet\"])\n",
    "costs[costs.src == \"us-gov-east-1\"]"
   ]
  },
  {
   "cell_type": "code",
   "execution_count": null,
   "metadata": {},
   "outputs": [],
   "source": []
  }
 ],
 "metadata": {
  "interpreter": {
   "hash": "e615813c5489b1590d5f8b2d596a39a5f3baf5ccbb6dde5ecf5546914cc6cb8b"
  },
  "kernelspec": {
   "display_name": "Python 3.8.12 64-bit ('base': conda)",
   "language": "python",
   "name": "python3"
  },
  "language_info": {
   "codemirror_mode": {
    "name": "ipython",
    "version": 3
   },
   "file_extension": ".py",
   "mimetype": "text/x-python",
   "name": "python",
   "nbconvert_exporter": "python",
   "pygments_lexer": "ipython3",
   "version": "3.8.12"
  }
 },
 "nbformat": 4,
 "nbformat_minor": 2
}
