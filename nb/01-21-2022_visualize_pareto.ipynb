{
 "cells": [
  {
   "cell_type": "code",
   "execution_count": null,
   "id": "f1af4e24-f32e-46da-9afe-379127564498",
   "metadata": {},
   "outputs": [],
   "source": [
    "import numpy as np\n",
    "import pandas as pd\n",
    "import matplotlib.pyplot as plt\n",
    "from skylark.utils import logger\n",
    "\n",
    "import seaborn as sns\n",
    "\n",
    "import pickle\n",
    "import requests\n",
    "import json\n",
    "import re\n",
    "from pathlib import Path\n",
    "\n",
    "from skylark import skylark_root\n",
    "\n",
    "data_dir = skylark_root / \"data\"\n",
    "figure_dir = data_dir / \"figures\" / \"pareto_speedups_updated\"\n",
    "figure_dir.mkdir(exist_ok=True, parents=True)\n",
    "\n",
    "plt.style.use(\"seaborn-bright\")\n",
    "plt.set_cmap(\"plasma\")"
   ]
  },
  {
   "cell_type": "code",
   "execution_count": null,
   "id": "99fec3e3-9ddf-4c13-9fd9-db5db82bc1cd",
   "metadata": {},
   "outputs": [],
   "source": [
    "df = pd.read_csv(\"/home/ubuntu/skylark/data/pareto.csv\")\n",
    "# gcp:us-central1-c -> \"gcp:us\"\n",
    "# aws:us-east-1 -> \"aws:us\"\n",
    "df[\"src_region\"] = df[\"src\"].apply(lambda x: x.split(\"-\")[0])\n",
    "df[\"dst_region\"] = df[\"dst\"].apply(lambda x: x.split(\"-\")[0])\n",
    "\n",
    "df[\"cost_factor\"] = df[\"cost_factor\"] * df[\"instance_limit\"]\n",
    "df[\"throughput_speedup\"] = df[\"throughput_speedup\"] / df[\"instance_limit\"]\n",
    "\n",
    "# plot scatter w/ cost_factor vs throughput_speedup, color by src with legend\n",
    "for instance_limit, df_limit in df.groupby(\"instance_limit\"):\n",
    "    fig, ax = plt.subplots(figsize=(8, 6))\n",
    "    for (src_region, dst_region), df_grouped in df_limit.groupby([\"src\", \"dst\"]):\n",
    "        df_grouped.sort_values(by=\"throughput\", inplace=True)\n",
    "        label = \"{} to {}\".format(src_region, dst_region)\n",
    "        sns.lineplot(x=\"throughput\", y=\"cost_factor\", data=df_grouped, ax=ax, label=label, alpha=0.8, markers=True)\n",
    "    ax.legend(loc=\"lower center\", bbox_to_anchor=(0.5, -0.6), ncol=3)\n",
    "    ax.set_title(\"instance_limit={}\".format(instance_limit))\n",
    "    ax.set_xlabel(\"Throughput (Gbps)\")\n",
    "    ax.set_ylabel(\"Cost Factor\")\n",
    "\n",
    "    # white background (no transparency)\n",
    "    fig.set_facecolor(\"white\")\n",
    "\n",
    "    fig.savefig(figure_dir / f\"pareto_speedups_{instance_limit}.png\", bbox_inches=\"tight\", dpi=300)\n",
    "    fig.savefig(figure_dir / f\"pareto_speedups_{instance_limit}.pdf\", bbox_inches=\"tight\", dpi=300)"
   ]
  },
  {
   "cell_type": "code",
   "execution_count": null,
   "id": "d33c640e",
   "metadata": {},
   "outputs": [],
   "source": [
    "df.describe()"
   ]
  },
  {
   "cell_type": "code",
   "execution_count": null,
   "id": "0921e827",
   "metadata": {},
   "outputs": [],
   "source": []
  }
 ],
 "metadata": {
  "kernelspec": {
   "display_name": "Python 3 (ipykernel)",
   "language": "python",
   "name": "python3"
  },
  "language_info": {
   "codemirror_mode": {
    "name": "ipython",
    "version": 3
   },
   "file_extension": ".py",
   "mimetype": "text/x-python",
   "name": "python",
   "nbconvert_exporter": "python",
   "pygments_lexer": "ipython3",
   "version": "3.8.12"
  }
 },
 "nbformat": 4,
 "nbformat_minor": 5
}
