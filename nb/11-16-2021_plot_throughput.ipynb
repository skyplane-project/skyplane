{
 "cells": [
  {
   "cell_type": "code",
   "execution_count": 5,
   "metadata": {},
   "outputs": [
    {
     "data": {
      "text/plain": [
       "<Figure size 432x288 with 0 Axes>"
      ]
     },
     "metadata": {},
     "output_type": "display_data"
    }
   ],
   "source": [
    "import numpy as np\n",
    "import pandas as pd\n",
    "import matplotlib.pyplot as plt\n",
    "from loguru import logger\n",
    "\n",
    "import pickle\n",
    "import json\n",
    "import re\n",
    "from pathlib import Path\n",
    "\n",
    "data_dir = Path(globals()['_dh'][0]).parent / 'data'\n",
    "figure_dir = data_dir / 'figures'\n",
    "figure_dir.mkdir(exist_ok=True)\n",
    "\n",
    "plt.style.use('seaborn-bright')\n",
    "plt.set_cmap('plasma')"
   ]
  },
  {
   "cell_type": "code",
   "execution_count": 11,
   "metadata": {},
   "outputs": [],
   "source": [
    "with (data_dir / 'throughput.json').open('rb') as f:\n",
    "    data = json.load(f)\n",
    "df = pd.DataFrame(data).set_index(['src', 'dst'])\n",
    "df['throughput_gbps'] = df.throughput / 1e9"
   ]
  },
  {
   "cell_type": "code",
   "execution_count": 13,
   "metadata": {},
   "outputs": [],
   "source": [
    "region_list = list(sorted(df.index.get_level_values(0).unique()))\n",
    "\n",
    "def make_throughput_grid(df, region_list):\n",
    "    sent_gbps = np.zeros((len(region_list), len(region_list)))\n",
    "    for idx, row in df.iterrows():\n",
    "        print(idx, row)\n",
    "        src_region_idx = region_list.index(row['src_region'])\n",
    "        dst_region_idx = region_list.index(row['dst_region'])\n",
    "        recieved_gbps[src_region_idx, dst_region_idx] = row['throughput_recieved_gbps']\n",
    "        sent_gbps[src_region_idx, dst_region_idx] = row['throughput_sent_gbps']\n",
    "    return recieved_gbps, sent_gbps\n",
    "\n",
    "# # plot grid of throughputs for each pair of regions on X and Y axis\n",
    "# # only plot rows with highest num_threads\n",
    "# grouped_df = df.groupby(['num_threads'])\n",
    "# for num_threads, group in grouped_df:\n",
    "#     fig, ax = plt.subplots(1, 1, figsize=(5, 5))\n",
    "#     recieved_gbps, sent_gbps = make_throughput_grid(group, region_list)\n",
    "#     ax.imshow(recieved_gbps)\n",
    "#     ax.set_title(f'Throughput (Gbps), num_threads = {num_threads}')\n",
    "#     ax.set_xticks(np.arange(len(region_list)))\n",
    "#     ax.set_yticks(np.arange(len(region_list)))\n",
    "#     ax.set_xticklabels(region_list)\n",
    "#     ax.set_yticklabels(region_list)\n",
    "\n",
    "#     for tick in ax.get_xticklabels():\n",
    "#         tick.set_rotation(90)\n",
    "#     for i, row in enumerate(recieved_gbps):\n",
    "#         for j, col in enumerate(row):\n",
    "#             ax.text(j, i, round(col, 1), ha='center', va='center', color='white' if col < recieved_gbps.mean() else 'black')\n",
    "\n",
    "#     # set white background\n",
    "#     fig.patch.set_facecolor('white')\n",
    "\n",
    "#     # pad between subplots\n",
    "#     fig.subplots_adjust(hspace=0.6)\n",
    "\n",
    "#     # colorbar\n",
    "#     cbar = ax.figure.colorbar(ax.images[0], ax=ax)\n",
    "\n",
    "#     fig.savefig(figure_dir / f'throughput_grid_num_threads_{num_threads}.png', dpi=300, bbox_inches='tight')"
   ]
  },
  {
   "cell_type": "code",
   "execution_count": null,
   "metadata": {},
   "outputs": [],
   "source": []
  },
  {
   "cell_type": "code",
   "execution_count": null,
   "metadata": {},
   "outputs": [],
   "source": []
  }
 ],
 "metadata": {
  "interpreter": {
   "hash": "c30f2af5f468e7f5b45bcc30fca5f4886c90d54777aed916ed5f6294dfb24bf2"
  },
  "kernelspec": {
   "display_name": "Python 3 (ipykernel)",
   "language": "python",
   "name": "python3"
  },
  "language_info": {
   "codemirror_mode": {
    "name": "ipython",
    "version": 3
   },
   "file_extension": ".py",
   "mimetype": "text/x-python",
   "name": "python",
   "nbconvert_exporter": "python",
   "pygments_lexer": "ipython3",
   "version": "3.10.0"
  }
 },
 "nbformat": 4,
 "nbformat_minor": 4
}
