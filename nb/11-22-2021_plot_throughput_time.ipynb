{
 "cells": [
  {
   "cell_type": "code",
   "execution_count": 2,
   "metadata": {},
   "outputs": [
    {
     "data": {
      "text/plain": [
       "<Figure size 432x288 with 0 Axes>"
      ]
     },
     "metadata": {},
     "output_type": "display_data"
    }
   ],
   "source": [
    "import numpy as np\n",
    "import pandas as pd\n",
    "import matplotlib.pyplot as plt\n",
    "from loguru import logger\n",
    "from tqdm import tqdm\n",
    "\n",
    "import pickle\n",
    "import json\n",
    "import re\n",
    "from pathlib import Path\n",
    "\n",
    "data_dir = Path(globals()[\"_dh\"][0]).parent / \"data\"\n",
    "figure_dir = data_dir / \"figures\"\n",
    "figure_dir.mkdir(exist_ok=True)\n",
    "\n",
    "plt.style.use(\"seaborn-bright\")\n",
    "plt.set_cmap(\"plasma\")"
   ]
  },
  {
   "cell_type": "code",
   "execution_count": 5,
   "metadata": {},
   "outputs": [
    {
     "name": "stderr",
     "output_type": "stream",
     "text": [
      "100%|██████████| 33/33 [00:05<00:00,  6.57it/s]\n"
     ]
    }
   ],
   "source": [
    "rows = []\n",
    "throughput_files = list((data_dir / \"throughput\" / \"raw_data\").glob(\"*.json\"))\n",
    "for file in tqdm(throughput_files):\n",
    "    fname = file.name  # e.g. throughput_2021-11-20_14-10-46.json\n",
    "    date_time = re.search(r\"\\d{4}-\\d{2}-\\d{2}_\\d{2}-\\d{2}-\\d{2}\", fname).group(0)\n",
    "    datetime_parsed = pd.to_datetime(date_time, format=\"%Y-%m-%d_%H-%M-%S\")\n",
    "    throughput_data = json.load(open(file))\n",
    "    for row in throughput_data:\n",
    "        rows.append(\n",
    "            dict(\n",
    "                timestamp=datetime_parsed,\n",
    "                src=row[\"src\"],\n",
    "                dst=row[\"dst\"],\n",
    "                throughput_sent=row[\"throughput_sent\"],\n",
    "                throughput_received=row[\"throughput_received\"],\n",
    "            )\n",
    "        )\n",
    "df = pd.DataFrame(rows)"
   ]
  },
  {
   "cell_type": "code",
   "execution_count": 6,
   "metadata": {},
   "outputs": [
    {
     "name": "stderr",
     "output_type": "stream",
     "text": [
      "  0%|          | 0/16 [00:00<?, ?it/s]/home/ubuntu/miniconda3/lib/python3.8/site-packages/pandas/core/generic.py:5516: SettingWithCopyWarning: \n",
      "A value is trying to be set on a copy of a slice from a DataFrame.\n",
      "Try using .loc[row_indexer,col_indexer] = value instead\n",
      "\n",
      "See the caveats in the documentation: https://pandas.pydata.org/pandas-docs/stable/user_guide/indexing.html#returning-a-view-versus-a-copy\n",
      "  self[name] = value\n",
      "  6%|▋         | 1/16 [00:00<00:04,  3.07it/s]/home/ubuntu/miniconda3/lib/python3.8/site-packages/pandas/core/generic.py:5516: SettingWithCopyWarning: \n",
      "A value is trying to be set on a copy of a slice from a DataFrame.\n",
      "Try using .loc[row_indexer,col_indexer] = value instead\n",
      "\n",
      "See the caveats in the documentation: https://pandas.pydata.org/pandas-docs/stable/user_guide/indexing.html#returning-a-view-versus-a-copy\n",
      "  self[name] = value\n",
      " 12%|█▎        | 2/16 [00:00<00:04,  3.10it/s]/home/ubuntu/miniconda3/lib/python3.8/site-packages/pandas/core/generic.py:5516: SettingWithCopyWarning: \n",
      "A value is trying to be set on a copy of a slice from a DataFrame.\n",
      "Try using .loc[row_indexer,col_indexer] = value instead\n",
      "\n",
      "See the caveats in the documentation: https://pandas.pydata.org/pandas-docs/stable/user_guide/indexing.html#returning-a-view-versus-a-copy\n",
      "  self[name] = value\n",
      " 19%|█▉        | 3/16 [00:01<00:04,  2.87it/s]/home/ubuntu/miniconda3/lib/python3.8/site-packages/pandas/core/generic.py:5516: SettingWithCopyWarning: \n",
      "A value is trying to be set on a copy of a slice from a DataFrame.\n",
      "Try using .loc[row_indexer,col_indexer] = value instead\n",
      "\n",
      "See the caveats in the documentation: https://pandas.pydata.org/pandas-docs/stable/user_guide/indexing.html#returning-a-view-versus-a-copy\n",
      "  self[name] = value\n",
      " 25%|██▌       | 4/16 [00:01<00:04,  2.96it/s]/home/ubuntu/miniconda3/lib/python3.8/site-packages/pandas/core/generic.py:5516: SettingWithCopyWarning: \n",
      "A value is trying to be set on a copy of a slice from a DataFrame.\n",
      "Try using .loc[row_indexer,col_indexer] = value instead\n",
      "\n",
      "See the caveats in the documentation: https://pandas.pydata.org/pandas-docs/stable/user_guide/indexing.html#returning-a-view-versus-a-copy\n",
      "  self[name] = value\n",
      " 31%|███▏      | 5/16 [00:01<00:03,  3.03it/s]/home/ubuntu/miniconda3/lib/python3.8/site-packages/pandas/core/generic.py:5516: SettingWithCopyWarning: \n",
      "A value is trying to be set on a copy of a slice from a DataFrame.\n",
      "Try using .loc[row_indexer,col_indexer] = value instead\n",
      "\n",
      "See the caveats in the documentation: https://pandas.pydata.org/pandas-docs/stable/user_guide/indexing.html#returning-a-view-versus-a-copy\n",
      "  self[name] = value\n",
      " 38%|███▊      | 6/16 [00:01<00:03,  3.08it/s]/home/ubuntu/miniconda3/lib/python3.8/site-packages/pandas/core/generic.py:5516: SettingWithCopyWarning: \n",
      "A value is trying to be set on a copy of a slice from a DataFrame.\n",
      "Try using .loc[row_indexer,col_indexer] = value instead\n",
      "\n",
      "See the caveats in the documentation: https://pandas.pydata.org/pandas-docs/stable/user_guide/indexing.html#returning-a-view-versus-a-copy\n",
      "  self[name] = value\n",
      " 44%|████▍     | 7/16 [00:02<00:03,  2.92it/s]/home/ubuntu/miniconda3/lib/python3.8/site-packages/pandas/core/generic.py:5516: SettingWithCopyWarning: \n",
      "A value is trying to be set on a copy of a slice from a DataFrame.\n",
      "Try using .loc[row_indexer,col_indexer] = value instead\n",
      "\n",
      "See the caveats in the documentation: https://pandas.pydata.org/pandas-docs/stable/user_guide/indexing.html#returning-a-view-versus-a-copy\n",
      "  self[name] = value\n",
      " 50%|█████     | 8/16 [00:02<00:02,  3.00it/s]/home/ubuntu/miniconda3/lib/python3.8/site-packages/pandas/core/generic.py:5516: SettingWithCopyWarning: \n",
      "A value is trying to be set on a copy of a slice from a DataFrame.\n",
      "Try using .loc[row_indexer,col_indexer] = value instead\n",
      "\n",
      "See the caveats in the documentation: https://pandas.pydata.org/pandas-docs/stable/user_guide/indexing.html#returning-a-view-versus-a-copy\n",
      "  self[name] = value\n",
      " 56%|█████▋    | 9/16 [00:02<00:02,  3.06it/s]/home/ubuntu/miniconda3/lib/python3.8/site-packages/pandas/core/generic.py:5516: SettingWithCopyWarning: \n",
      "A value is trying to be set on a copy of a slice from a DataFrame.\n",
      "Try using .loc[row_indexer,col_indexer] = value instead\n",
      "\n",
      "See the caveats in the documentation: https://pandas.pydata.org/pandas-docs/stable/user_guide/indexing.html#returning-a-view-versus-a-copy\n",
      "  self[name] = value\n",
      " 62%|██████▎   | 10/16 [00:03<00:01,  3.10it/s]/home/ubuntu/miniconda3/lib/python3.8/site-packages/pandas/core/generic.py:5516: SettingWithCopyWarning: \n",
      "A value is trying to be set on a copy of a slice from a DataFrame.\n",
      "Try using .loc[row_indexer,col_indexer] = value instead\n",
      "\n",
      "See the caveats in the documentation: https://pandas.pydata.org/pandas-docs/stable/user_guide/indexing.html#returning-a-view-versus-a-copy\n",
      "  self[name] = value\n",
      " 69%|██████▉   | 11/16 [00:03<00:01,  3.13it/s]/home/ubuntu/miniconda3/lib/python3.8/site-packages/pandas/core/generic.py:5516: SettingWithCopyWarning: \n",
      "A value is trying to be set on a copy of a slice from a DataFrame.\n",
      "Try using .loc[row_indexer,col_indexer] = value instead\n",
      "\n",
      "See the caveats in the documentation: https://pandas.pydata.org/pandas-docs/stable/user_guide/indexing.html#returning-a-view-versus-a-copy\n",
      "  self[name] = value\n",
      " 75%|███████▌  | 12/16 [00:03<00:01,  2.95it/s]/home/ubuntu/miniconda3/lib/python3.8/site-packages/pandas/core/generic.py:5516: SettingWithCopyWarning: \n",
      "A value is trying to be set on a copy of a slice from a DataFrame.\n",
      "Try using .loc[row_indexer,col_indexer] = value instead\n",
      "\n",
      "See the caveats in the documentation: https://pandas.pydata.org/pandas-docs/stable/user_guide/indexing.html#returning-a-view-versus-a-copy\n",
      "  self[name] = value\n",
      " 81%|████████▏ | 13/16 [00:04<00:00,  3.02it/s]/home/ubuntu/miniconda3/lib/python3.8/site-packages/pandas/core/generic.py:5516: SettingWithCopyWarning: \n",
      "A value is trying to be set on a copy of a slice from a DataFrame.\n",
      "Try using .loc[row_indexer,col_indexer] = value instead\n",
      "\n",
      "See the caveats in the documentation: https://pandas.pydata.org/pandas-docs/stable/user_guide/indexing.html#returning-a-view-versus-a-copy\n",
      "  self[name] = value\n",
      " 88%|████████▊ | 14/16 [00:04<00:00,  3.07it/s]/home/ubuntu/miniconda3/lib/python3.8/site-packages/pandas/core/generic.py:5516: SettingWithCopyWarning: \n",
      "A value is trying to be set on a copy of a slice from a DataFrame.\n",
      "Try using .loc[row_indexer,col_indexer] = value instead\n",
      "\n",
      "See the caveats in the documentation: https://pandas.pydata.org/pandas-docs/stable/user_guide/indexing.html#returning-a-view-versus-a-copy\n",
      "  self[name] = value\n",
      " 94%|█████████▍| 15/16 [00:04<00:00,  3.11it/s]/home/ubuntu/miniconda3/lib/python3.8/site-packages/pandas/core/generic.py:5516: SettingWithCopyWarning: \n",
      "A value is trying to be set on a copy of a slice from a DataFrame.\n",
      "Try using .loc[row_indexer,col_indexer] = value instead\n",
      "\n",
      "See the caveats in the documentation: https://pandas.pydata.org/pandas-docs/stable/user_guide/indexing.html#returning-a-view-versus-a-copy\n",
      "  self[name] = value\n",
      "100%|██████████| 16/16 [00:05<00:00,  3.05it/s]\n"
     ]
    }
   ],
   "source": [
    "# for each src, make a single plot showing the throughput_sent over time for all dst\n",
    "(figure_dir / \"throughput_sent\").mkdir(exist_ok=True, parents=True)\n",
    "for src in tqdm(df.src.unique()):\n",
    "    df_src = df.loc[df.src == src]\n",
    "    df_src.timestamp = df_src.timestamp.dt.tz_localize(None)\n",
    "    # group by dst and plot the throughput_sent over time, each dst as one line\n",
    "    # make ax as subplot with figsize=(10, 5)\n",
    "    fig, ax = plt.subplots(figsize=(10, 5))\n",
    "    for dst in df_src.dst.unique():\n",
    "        df_dst = df_src.loc[df_src.dst == dst]\n",
    "        df_dst.plot(x=\"timestamp\", y=\"throughput_sent\", ax=ax, label=dst)\n",
    "    ax.set_title(f\"{src}\")\n",
    "    ax.set_ylabel(\"throughput_sent (bytes/s)\")\n",
    "\n",
    "    # show legend with padding on the right, with sorted legend entries by np.mean(throughput_sent)\n",
    "    handles, labels = ax.get_legend_handles_labels()\n",
    "    labels, handles = zip(*sorted(zip(labels, handles), key=lambda t: t[0], reverse=False))\n",
    "    ax.legend(handles, labels, loc=\"upper right\", bbox_to_anchor=(1.375, 1.0))\n",
    "    plt.tight_layout()\n",
    "    # pad the right of the plot to make room for the legend\n",
    "    plt.subplots_adjust(right=0.75)\n",
    "    plt.savefig(figure_dir / \"throughput_sent\" / f\"{src}.png\")\n",
    "    plt.close()"
   ]
  },
  {
   "cell_type": "code",
   "execution_count": 7,
   "metadata": {},
   "outputs": [],
   "source": [
    "# write the dataframe to a pickle file\n",
    "df.to_csv(data_dir / \"throughput\" / \"df_throughput_samples.csv\")"
   ]
  },
  {
   "cell_type": "code",
   "execution_count": 8,
   "metadata": {},
   "outputs": [],
   "source": [
    "# write aggregated data (src, dst, mean(throughput_sent), mean(throughput_received)) to a pickle file. unflatten key.\n",
    "df_agg = df.groupby([\"src\", \"dst\"]).agg({\"throughput_sent\": np.mean, \"throughput_received\": np.mean})\n",
    "df_agg.reset_index(inplace=True)\n",
    "df_agg.to_csv(data_dir / \"throughput\" / \"df_throughput_agg.csv\")"
   ]
  },
  {
   "cell_type": "code",
   "execution_count": null,
   "metadata": {},
   "outputs": [],
   "source": []
  }
 ],
 "metadata": {
  "interpreter": {
   "hash": "7a2c4b191d1ae843dde5cb5f4d1f62fa892f6b79b0f9392a84691e890e33c5a4"
  },
  "kernelspec": {
   "display_name": "Python 3.8.12 64-bit ('base': conda)",
   "language": "python",
   "name": "python3"
  },
  "language_info": {
   "codemirror_mode": {
    "name": "ipython",
    "version": 3
   },
   "file_extension": ".py",
   "mimetype": "text/x-python",
   "name": "python",
   "nbconvert_exporter": "python",
   "pygments_lexer": "ipython3",
   "version": "3.8.12"
  },
  "orig_nbformat": 4
 },
 "nbformat": 4,
 "nbformat_minor": 2
}
